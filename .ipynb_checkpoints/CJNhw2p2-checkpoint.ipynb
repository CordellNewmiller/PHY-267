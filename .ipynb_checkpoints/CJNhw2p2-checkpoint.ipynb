{
 "cells": [
  {
   "cell_type": "code",
   "execution_count": 16,
   "metadata": {
    "collapsed": false
   },
   "outputs": [
    {
     "name": "stdout",
     "output_type": "stream",
     "text": [
      "For a change in magnitude of 0.3,\n",
      "the fractional change in luminosity will be 0.8\n"
     ]
    },
    {
     "data": {
      "text/plain": [
       "[<matplotlib.lines.Line2D at 0xa661d30>]"
      ]
     },
     "execution_count": 16,
     "metadata": {},
     "output_type": "execute_result"
    },
    {
     "data": {
      "image/png": "[encoded data removed]",
      "text/plain": [
       "<matplotlib.figure.Figure at 0x92c09b0>"
      ]
     },
     "metadata": {},
     "output_type": "display_data"
    }
   ],
   "source": [
    "\"\"\"\n",
    "         1         2         3         4         5         6         7      \n",
    "1234567890123456789012345678901234567890123456789012345678901234567890123456\n",
    "\n",
    "Cordell Newmiller\n",
    "Prof. Lubin\n",
    "PHY 267\n",
    "Homework 2\n",
    "Problem 2\n",
    "\n",
    "Here you will make a numerical model (i.e. a Monte Carlo simulation) \n",
    "describing both the distribution of stars and the way we observe them, to \n",
    "explore the Malmquist Bias. If we observe stars down to a fixed apparent \n",
    "brightness, we do not get a fair mixture of all the stars in the sky. Rather \n",
    "we include more of the most luminous stars.\n",
    "\n",
    "(a) Your model sky consists of G-type stars in regions A (70 pc < d < 90 pc), \n",
    "B (90 pc < d <110 pc), and C (110 pc < d <130 pc). G stars do not all have \n",
    "exactly the same luminosity. If the variation corresponds to about 0.3 \n",
    "magnitudes, what fractional change in luminosity is this?\n",
    "\n",
    "(b) Assuming the density of stars is uniform, place a 1000+ stars randomly \n",
    "in space and choose an absolute magnitude from a Gaussian distribution with \n",
    "mean MV,⊙ = 4.83 and variance 0.3. To “observe” your sky, use a “telescope” \n",
    "that can only “see” stars brighter than apparent magnitude mV = 10; these are \n",
    "the stars in your sample. How different is their mean absolute magnitude from \n",
    "that for all the stars that you placed in the sky?\n",
    "\n",
    "(c) What is the average distance of all the stars in your sample? Suppose you \n",
    "assumed that your sample stars each had the average luminosity for all the \n",
    "stars in your sky and then calculated their distances from their apparent \n",
    "magnitudes : what would you find for their average distance? In which sense \n",
    "would you make an error?\n",
    "\n",
    "(d) Metal-poor main-sequence stars are bluer for a given luminosity, so they \n",
    "are fainter at a particular spectral type. If the star’s fraction by weight of \n",
    "heavy elements is Z, then ∆MV ≈ −0.87 log10(Z/Z⊙). Assume that the average \n",
    "metallicity is Z/Z⊙ = 0.6 with a variance of 0.1. For each of the stars in \n",
    "part (b), choose a Z/Z⊙ from this Gaussian distribution (simply ignore values \n",
    "of zero or less) and change the absolute magnitude by the resulting ∆MV . \n",
    "Observe the stars again with the same telescope. For your sample of stars, \n",
    "calculate the average Z of those that fall in regions B and C. Are these more \n",
    "or less metal-rich than all of the stars that you placed in the sky?\n",
    "\n",
    "\"\"\"\n",
    "import numpy\n",
    "from matplotlib import pyplot\n",
    "%matplotlib inline\n",
    "\n",
    "# (a) fractional change in luminosity = flux ratio\n",
    "FluxFraction = 10**(-0.4*(0.3))\n",
    "\n",
    "FractionalLuminosityChange = FluxFraction\n",
    "print('For a change in magnitude of 0.3,') \n",
    "print('the fractional change in luminosity will be',\n",
    "      '{:.{s}f}'.format(FractionalLuminosityChange, s=1))\n",
    "\n",
    "# (b) Model sky\n",
    "\n",
    "Rnear=90\n",
    "Rfar=130\n",
    "N=1000000\n",
    "bincount=100\n",
    "\n",
    "# To random sample by radius, the PDF will go as Ar^2, so the inverse CDF\n",
    "# will go as Br^(1/3)\n",
    "\n",
    "A = 1/((1/3)*(Rfar**3-Rnear**3))\n",
    "B = (3/A)**(1/3)\n",
    "\n",
    "Rstars =  B*(numpy.random.uniform(size=N)+(A/3)*(Rnear**3))**(1/3)\n",
    "\n",
    "Rrange=numpy.arange(90,131)\n",
    "Nexpected=((Rfar-Rnear)*N/bincount)*A*(Rrange**2)\n",
    "\n",
    "figure1 = pyplot.figure(figsize=(10,10))\n",
    "pyplot.hist(Rstars,bins=bincount);\n",
    "pyplot.plot(Rrange,Nexpected,linewidth=3)"
   ]
  },
  {
   "cell_type": "code",
   "execution_count": 9,
   "metadata": {
    "collapsed": false
   },
   "outputs": [
    {
     "data": {
      "text/plain": [
       "array([ 0.63209103,  0.65372321,  0.37528863,  0.78239286,  0.51568246])"
      ]
     },
     "execution_count": 9,
     "metadata": {},
     "output_type": "execute_result"
    }
   ],
   "source": [
    "numpy.random.uniform(size=5)"
   ]
  },
  {
   "cell_type": "code",
   "execution_count": null,
   "metadata": {
    "collapsed": true
   },
   "outputs": [],
   "source": []
  }
 ],
 "metadata": {
  "kernelspec": {
   "display_name": "Python 3",
   "language": "python",
   "name": "python3"
  },
  "language_info": {
   "codemirror_mode": {
    "name": "ipython",
    "version": 3
   },
   "file_extension": ".py",
   "mimetype": "text/x-python",
   "name": "python",
   "nbconvert_exporter": "python",
   "pygments_lexer": "ipython3",
   "version": "3.4.3"
  }
 },
 "nbformat": 4,
 "nbformat_minor": 0
}
