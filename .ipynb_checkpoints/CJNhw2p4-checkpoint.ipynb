{
 "cells": [
  {
   "cell_type": "code",
   "execution_count": 2,
   "metadata": {
    "collapsed": false
   },
   "outputs": [
    {
     "name": "stdout",
     "output_type": "stream",
     "text": [
      "\n",
      " (a)\n",
      "We have to add that to account for the motion of our own Sun. The \n",
      " The cos(b) part gets the component of our velocity in the plane \n",
      " of the diagram (the plane shared by the Sun, the object, and the \n",
      " galactic center), where b is the angle of that plane from the Sun's \n",
      " velocity: this is the component marked in the diagram as V0. The \n",
      " sin(l) part is clear from the diagram, it tells us the component of \n",
      " the marked V0 in the line of sight.\n",
      "\n",
      " (b)\n",
      "I am neglecting non-radial kinetic energy, which makes this a lower\n",
      " bound estimate for the Milky Way's mass. I am also assuming my\n",
      " sample is big enough to get a time average, for the virial theorem.\n",
      "Low end mass estimate for the Milky Way is 1.2e+11  Solar Masses.\n"
     ]
    }
   ],
   "source": [
    "\"\"\"\n",
    "         1         2         3         4         5         6         7      \n",
    "1234567890123456789012345678901234567890123456789012345678901234567890123456\n",
    "\n",
    "Cordell Newmiller\n",
    "Prof. Lubin\n",
    "PHY 267\n",
    "Homework 2\n",
    "Problem 4\n",
    "\n",
    "The Milky Way’s satellite galaxies orbit at distances of 60–80 kpc (see \n",
    "Figure 2 for a list). Their radial velocities V r (⊙) measured relative to \n",
    "the Sun are typically around 100 km s −1 .\n",
    "\n",
    "(a) Looking at Figure 3, explain why you must add V 0 sin(l)cos(b) to find \n",
    "the motion relative to the Galactic center.\n",
    "\n",
    "(b) Simplify the problem by taking the Galaxy to be spherically symmetric, \n",
    "with its mass entirely within the satellite orbits, so you can treat it as \n",
    "a central point mass MG. The mutual potential energy of the satellites is \n",
    "small compared with the external force term −G*MG /r^2,and the satellite’s \n",
    "Galactocentric radius r is almost equal to d, its distance from the Sun. For\n",
    "each satellite in turn, use the virial theorem to estimate MG. What do you \n",
    "have to assume about each satellite’s motion for this measurement? Average \n",
    "the results to show that the Milky Way’s mass exceeds 10^12 M⊙ so \n",
    "that M/LV >= 50.\n",
    "\n",
    "\"\"\"\n",
    "\n",
    "import numpy\n",
    "\n",
    "\n",
    "print('\\n (a)')\n",
    "print('We have to add that to account for the motion of our own Sun. The \\n',\n",
    "'The cos(b) part gets the component of our velocity in the plane \\n',\n",
    "'of the diagram (the plane shared by the Sun, the object, and the \\n',\n",
    "'galactic center), where b is the angle of that plane from the Sun\\'s \\n',\n",
    "'velocity: this is the component marked in the diagram as V0. The \\n',\n",
    "'sin(l) part is clear from the diagram, it tells us the component of \\n',\n",
    "'the marked V0 in the line of sight.')\n",
    "\n",
    "\n",
    "print('\\n (b)')\n",
    "\n",
    "distances = numpy.array([49, 58, 120, 25, 270, 72, 207, 83, 100,\n",
    "                         64, 72]) *1000 #  kpc\n",
    "velocities = numpy.array([274, 148, 53, 170, 185, 107, 76, 225, 223,\n",
    "                          -247, -293]) #km/s\n",
    "angleL = numpy.deg2rad(numpy.array([280, 303, 237, 6, 226, 288, 220, 244,\n",
    "                                    260, 105, 86]))\n",
    "angleB = numpy.deg2rad(numpy.array([-33, -44, -66, -14, 49, -83, 67, 42,\n",
    "                                    -22, 45, 35]))\n",
    "\n",
    "SunVelocity=225 # km/s\n",
    "GravitationalConstant = 4.302*10**(-3) # (pc/solarmass)*(km/s)^2  \n",
    "GCvelocities= velocities + SunVelocity*numpy.sin(angleL)*numpy.cos(angleB)\n",
    "\n",
    "\n",
    "print('I am neglecting non-radial kinetic energy, which makes this a lower\\n',\n",
    "     'bound estimate for the Milky Way\\'s mass. I am also assuming my\\n',\n",
    "     'sample is big enough to get a time average, for the virial theorem.')\n",
    "# From virial theorem\n",
    "#  2*(1/2)*m*(v^2)=-(-G*M*m)/r\n",
    "#  M=v^2 * r/G \n",
    "\n",
    "MWMassEstimates = GCvelocities**2 * distances/GravitationalConstant\n",
    "\n",
    "MWMass = (numpy.mean(MWMassEstimates))\n",
    "\n",
    "print('Low end mass estimate for the Milky Way is',\n",
    "      '{:.{s}e}'.format(MWMass, s=1),' Solar Masses.') \n",
    "\n",
    "# It's about an order of magnitude lower than what the problem says to expect.\n",
    "# I think my units are correct? I must have made an error somewhere else...?\n"
   ]
  },
  {
   "cell_type": "code",
   "execution_count": null,
   "metadata": {
    "collapsed": true
   },
   "outputs": [],
   "source": []
  }
 ],
 "metadata": {
  "kernelspec": {
   "display_name": "Python 3",
   "language": "python",
   "name": "python3"
  },
  "language_info": {
   "codemirror_mode": {
    "name": "ipython",
    "version": 3
   },
   "file_extension": ".py",
   "mimetype": "text/x-python",
   "name": "python",
   "nbconvert_exporter": "python",
   "pygments_lexer": "ipython3",
   "version": "3.4.3"
  }
 },
 "nbformat": 4,
 "nbformat_minor": 0
}
