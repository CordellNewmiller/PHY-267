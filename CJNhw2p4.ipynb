{
 "cells": [
  {
   "cell_type": "code",
   "execution_count": null,
   "metadata": {
    "collapsed": true
   },
   "outputs": [],
   "source": [
    "\"\"\"\n",
    "         1         2         3         4         5         6         7      \n",
    "1234567890123456789012345678901234567890123456789012345678901234567890123456\n",
    "\n",
    "Cordell Newmiller\n",
    "Prof. Lubin\n",
    "PHY 267\n",
    "Homework 2\n",
    "Problem 4\n",
    "\n",
    "The Milky Way’s satellite galaxies orbit at distances of 60–80 kpc (see \n",
    "Figure 2 for a list). Their radial velocities V r (⊙) measured relative to \n",
    "the Sun are typically around 100 km s −1 .\n",
    "\n",
    "(a) Looking at Figure 3, explain why you must add V 0 sin(l)cos(b) to find \n",
    "the motion relative to the Galactic center.\n",
    "\n",
    "(b) Simplify the problem by taking the Galaxy to be spherically symmetric, \n",
    "with its mass entirely within the satellite orbits, so you can treat it as \n",
    "a central point mass MG. The mutual potential energy of the satellites is \n",
    "small compared with the external force term −G*MG /r^2,and the satellite’s \n",
    "Galactocentric radius r is almost equal to d, its distance from the Sun. For\n",
    "each satellite in turn, use the virial theorem to estimate MG. What do you \n",
    "have to assume about each satellite’s motion for this measurement? Average \n",
    "the results to show that the Milky Way’s mass exceeds 10^12 M⊙ so \n",
    "that M/LV >= 50.\n",
    "\n",
    "\"\"\"\n",
    "\n",
    "\n"
   ]
  }
 ],
 "metadata": {
  "kernelspec": {
   "display_name": "Python 3",
   "language": "python",
   "name": "python3"
  },
  "language_info": {
   "codemirror_mode": {
    "name": "ipython",
    "version": 3
   },
   "file_extension": ".py",
   "mimetype": "text/x-python",
   "name": "python",
   "nbconvert_exporter": "python",
   "pygments_lexer": "ipython3",
   "version": "3.4.3"
  }
 },
 "nbformat": 4,
 "nbformat_minor": 0
}
