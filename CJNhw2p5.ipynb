{
 "cells": [
  {
   "cell_type": "code",
   "execution_count": null,
   "metadata": {
    "collapsed": true
   },
   "outputs": [],
   "source": [
    "\"\"\"\n",
    "         1         2         3         4         5         6         7      \n",
    "1234567890123456789012345678901234567890123456789012345678901234567890123456\n",
    "\n",
    "Cordell Newmiller\n",
    "Prof. Lubin\n",
    "PHY 267\n",
    "Homework 2\n",
    "Problem 5\n",
    "\n",
    "\n",
    "(a) Use the Hipparcos catalog (for more information on the mission and \n",
    "measured parameters, see http://www.rssd.esa.int/Hipparcos/) to make an HR \n",
    "diagram (B − V versus MV). You will need to convert the VT apparent magnitude \n",
    "to an absolute magnitude. Usenonly those stars whose parallaxes have relative \n",
    "accuracies of σπ/π ≤ 0.1 and color errors of σB−V < 0.03 mag. The Hipparcos \n",
    "catalog (hip main.dat) and the guide to its contents (Hipparchos Guide.pdf) \n",
    "are available on smartsite under “Resources/Homework/Homework 2”).\n",
    "\n",
    "(b) Label the main features of the HR digram.\n",
    "\n",
    "(c) Overlay the three sets of isochrones (stellar tracks for stars of \n",
    "constant age and metallicity) given in snewz01bvri.iso ([Fe/H] = −0.29), \n",
    "snewz0188bvri.iso ([Fe/H] = +0.0), snewz04bvri.iso ([Fe/H] = +0.37). \n",
    "Note that tracks of ages from 6-12 Gyrs are included, sequentially, in each\n",
    "file. Which isochrones best-fit the main features of the HR diagram? What \n",
    "does this tell you about the ages and metallicities of stars in the solar \n",
    "neighborhood?\n",
    "\n",
    "ONLY AFTER you have thought about this and written down your conclusions, \n",
    "have a look at Sandage et al. 2003, PASP, 115, 1187 (available under \n",
    "“Resources/Additional Reading/Week 2”).\n",
    "\n",
    "(d) Plot the same HR diagram (no isochrones necessary) but using only those \n",
    "stars with σπ/π ≤ 0.04, σπ/π ≤ 0.06, and σπ/π ≤ 0.08. See how important it is \n",
    "to have a large number of stars in order to define accurately certain \n",
    "features of the HR diagram.\n",
    "\n",
    "\"\"\"\n",
    "\n",
    "\n"
   ]
  }
 ],
 "metadata": {
  "kernelspec": {
   "display_name": "Python 3",
   "language": "python",
   "name": "python3"
  },
  "language_info": {
   "codemirror_mode": {
    "name": "ipython",
    "version": 3
   },
   "file_extension": ".py",
   "mimetype": "text/x-python",
   "name": "python",
   "nbconvert_exporter": "python",
   "pygments_lexer": "ipython3",
   "version": "3.4.3"
  }
 },
 "nbformat": 4,
 "nbformat_minor": 0
}
